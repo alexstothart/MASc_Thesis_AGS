{
 "cells": [
  {
   "cell_type": "raw",
   "metadata": {},
   "source": [
    "Thermal Model Written by Alex Stothart\n",
    "- Last Updated September 15, 2022\n",
    "- This code includes the identified outdoor cycling considerations. \n",
    "- Most properties are from the original Stolwijk model, with necessary adaptations employed."
   ]
  },
  {
   "cell_type": "code",
   "execution_count": 1,
   "metadata": {},
   "outputs": [],
   "source": [
    "# Import necessary functionality\n",
    "import numpy as np\n",
    "import matplotlib.pyplot as plt\n",
    "np.set_printoptions(suppress=True) # Display setting for printed values"
   ]
  },
  {
   "cell_type": "code",
   "execution_count": 2,
   "metadata": {},
   "outputs": [],
   "source": [
    "# Define indices for each body region (I)\n",
    "# This allows regions to be indexed with intuitive english language, as opposed to a number\n",
    "# 1 (one) is subtracted from each index since they are enumerated starting at 1 in the original literature, but Python indexes iterables beginning at 0\n",
    "head = 1-1\n",
    "trunk = 2-1\n",
    "arms = 3-1\n",
    "coolarms = 4-1\n",
    "hands = 5-1\n",
    "legs = 6-1\n",
    "feet = 7-1\n",
    "\n",
    "## Define indices for each layer node (N)\n",
    "# This allows nodes to be indexed with intuitive english language, as opposed to a number\n",
    "# 1 (one) is subtracted from each index since they are enumerated starting at 1 in the original literature, but Python indexes iterables beginning at 0\n",
    "headcore = 1-1\n",
    "headmuscle = 2-1\n",
    "headfat = 3-1\n",
    "headskin = 4-1\n",
    "trunkcore = 5-1\n",
    "trunkmuscle = 6-1\n",
    "trunkfat = 7-1\n",
    "trunkskin = 8-1\n",
    "armscore = 9-1\n",
    "armsmuscle = 10-1\n",
    "armsfat = 11-1\n",
    "armsskin = 12-1\n",
    "coolarmscore = 13-1\n",
    "coolarmsmuscle = 14-1\n",
    "coolarmsfat = 15-1\n",
    "coolarmsskin = 16-1\n",
    "handscore = 17-1\n",
    "handsmuscle = 18-1\n",
    "handsfat = 19-1\n",
    "handsskin = 20-1\n",
    "legscore = 21-1\n",
    "legsmuscle = 22-1\n",
    "legsfat = 23-1\n",
    "legsskin = 24-1\n",
    "feetcore = 25-1\n",
    "feetmuscle = 26-1\n",
    "feetfat = 27-1\n",
    "feetskin = 28-1\n",
    "centralblood = 29-1\n",
    "\n",
    "## Define arrays containing indices for different node types\n",
    "coreNs = [headcore,trunkcore,armscore,coolarmscore,handscore,legscore,feetcore]\n",
    "muscleNs = [headmuscle,trunkmuscle,armsmuscle,coolarmsmuscle,handsmuscle,legsmuscle,feetmuscle]\n",
    "fatNs = [headfat,trunkfat,armsfat,coolarmsfat,handsfat,legsfat,feetfat]\n",
    "skinNs = [headskin,trunkskin,armsskin,coolarmsskin,handsskin,legsskin,feetskin]"
   ]
  },
  {
   "cell_type": "code",
   "execution_count": 3,
   "metadata": {},
   "outputs": [],
   "source": [
    "dt = 0.0005    # time step [h]\n",
    "t_end = 2.5   # end time [h]\n",
    "\n",
    "# Time array\n",
    "ts = np.arange(0,t_end,dt)\n",
    "\n",
    "# Initialize arrays storing key simulation values\n",
    "# Meaning for each variable outlined in Table 1 of Stolwijk (1971)\n",
    "C = np.zeros(29)\n",
    "T = np.zeros((len(ts),29))\n",
    "F = np.zeros((len(ts),29))\n",
    "HF = np.zeros((len(ts),29))\n",
    "TC = np.zeros(29)\n",
    "TD = np.zeros((len(ts),29))\n",
    "QB = np.zeros(29)\n",
    "Q = np.zeros((len(ts),29))\n",
    "EB = np.zeros(29)\n",
    "E = np.zeros((len(ts),29))\n",
    "EMASS = np.zeros((len(ts),29))\n",
    "AC = np.zeros((len(ts),29)) # Combined radiative and convective losses for ease of presentation\n",
    "COOLING = np.zeros(len(ts)) # New value used to store extracted heat\n",
    "BFB = np.zeros(29)\n",
    "BF = np.zeros((len(ts),29))\n",
    "BC = np.zeros((len(ts),29))\n",
    "HC = np.zeros(7)\n",
    "S = np.zeros(7)\n",
    "HR = np.zeros(7)\n",
    "H = np.zeros((len(ts),7))\n",
    "P = np.array([6.5, 9.2, 12.8, 17.5, 23.8, 31.8, 41.2, 55.3, 71.9, 92.5])\n",
    "TforP = np.array([5, 10, 15, 20, 25, 30, 35, 40, 45, 50])\n",
    "PSKIN = np.zeros((len(ts),7))\n",
    "\n",
    "## Define arrays containing indices for different node types\n",
    "# This simplifies indexing of multiple nodes at the same time\n",
    "Cloi = np.zeros(7)\n",
    "Fcl = np.zeros((len(ts),7))\n",
    "Facl = np.zeros(7)\n",
    "Cloe = np.zeros(7)\n",
    "Fpcl = np.zeros((len(ts),7))\n",
    "EMAX = np.zeros((len(ts),7))\n",
    "SkBFmax = np.zeros(len(ts))\n",
    "\n",
    "# Solar irradiation properties\n",
    "VF = np.zeros(7) # solar area factors\n",
    "alpha = np.zeros(7) # Absorptivity"
   ]
  },
  {
   "cell_type": "code",
   "execution_count": 4,
   "metadata": {},
   "outputs": [],
   "source": [
    "## Creating vectors describing air velocity\n",
    "# Pre-exercise period\n",
    "PreV = np.array([0.1, 0.1, 0.1, 0.1, 0.1, 0.1, 0.1])\n",
    "PreV = np.broadcast_to(PreV,(int(35/60/dt),7)) # 35 minutes of minimal movement\n",
    "# Warmup on stationary ergometer\n",
    "WUV = np.array([0.19, 0.16, 0.22, 0.22, 0.15, 0.44, 1.00]) # Based on Direct N+G measurements (worked backwards to get equivalent speed)\n",
    "WUV = np.broadcast_to(WUV,(int(6.5/60/dt),7)) # 5 minute stationary warmup + 1.5 minutes affixing cooling\n",
    "# Studied exercise bout\n",
    "V = np.array([10, 10, 10, 10, 10, 10, 10]) # Cycling at 10m/s\n",
    "# V = np.array([0.19, 0.16, 0.22, 0.22, 0.15, 0.44, 1.00]) # For stationary ergometer bouts\n",
    "V = np.broadcast_to(V,(len(ts)-len(PreV)-len(WUV),7)) #create 2d array with values for each body segment and time step\n",
    "V = np.concatenate((PreV,WUV,V),axis=0) # Combine all simulation periods\n",
    "\n",
    "#Air temperature\n",
    "TAIR = 25*np.ones((int(30/60/dt))) # 30 minutes before entering chamber at 25C\n",
    "TAIR = np.concatenate((TAIR,30*np.ones(len(ts) - len(TAIR)))) # 30C for remainder of bout (replace with desired value)\n",
    "\n",
    "# Relative humidity\n",
    "RH = 0.3*np.ones((int(30/60/dt))) # 30 minutes before entering chamber at 30%\n",
    "RH = np.concatenate((RH,0.7*np.ones(len(ts) - len(RH)))) # 70% for remainder of bout (replace with desired value)\n",
    "PAIR = RH*np.interp(TAIR, TforP, P) #Obtain partial vapout pressure\n",
    "\n",
    "# Solar irradiation flux\n",
    "s = np.zeros((int(41.5/60/dt))) # 41.5 minutes indoors with no sun\n",
    "s = np.concatenate((s,(1000/1.163)*np.ones(len(ts)-len(s)))) # 1000W for remaining outdoor bout converted to kcal/hr/m^2 (replace with desired value)\n",
    "TOp = np.zeros((len(ts),7)) # Initialize operative temperature"
   ]
  },
  {
   "cell_type": "code",
   "execution_count": 5,
   "metadata": {},
   "outputs": [],
   "source": [
    "## Assign values to appropriate arrays based on Stolwijk unless specified\n",
    "\n",
    "cooling_ratio = 0.055 # Note that 0.055 ratio is the ratio of the skin area covered by the blocks to the total arm area adjusted for the DRDC sample\n",
    "\n",
    "# Thermal conductance values [kcal/C/h] \n",
    "TC[headcore] = 1.38; TC[headmuscle] = 11.4; TC[headfat] = 13.8\n",
    "\n",
    "TC[trunkcore] = 1.37; TC[trunkmuscle] = 4.75; TC[trunkfat] = 19.80\n",
    "\n",
    "TC[armscore] = 1.20*(1-cooling_ratio); TC[armsmuscle] = 8.90*(1-cooling_ratio); TC[armsfat] = 26.20*(1-cooling_ratio) # Removing cooled arm segment from arm\n",
    "\n",
    "TC[coolarmscore] = 1.20*(cooling_ratio); TC[coolarmsmuscle] = 3.5*cooling_ratio/0.055; TC[coolarmsfat] = 2.3*cooling_ratio/0.055 # Adjusted as described in doc\n",
    "\n",
    "TC[handscore] = 5.50; TC[handsmuscle] = 9.65; TC[handsfat] = 9.90\n",
    "\n",
    "TC[legscore] = 9.0; TC[legsmuscle] = 12.4; TC[legsfat] = 64.0\n",
    "\n",
    "TC[feetcore] = 14.0; TC[feetmuscle] = 17.7; TC[feetfat] = 14.1\n",
    "\n",
    "# Heat capacitance [kcal/C]\n",
    "C[headcore] = 2.22; C[headmuscle] = 0.33; C[headfat] = 0.22; C[headskin] = 0.24\n",
    "\n",
    "C[trunkcore] = 9.82; C[trunkmuscle] = 16.15; C[trunkfat] = 4.25; C[trunkskin] = 1.21\n",
    "\n",
    "C[armscore] = 1.41*(1-cooling_ratio); C[armsmuscle] = 3.04*(1-cooling_ratio); C[armsfat] = 0.58*(1-cooling_ratio); C[armsskin] = 0.43*(1-cooling_ratio) # Removing cooled arm segment from arm\n",
    "\n",
    "C[coolarmscore] = 1.41*(cooling_ratio); C[coolarmsmuscle] = 3.04*(cooling_ratio); C[coolarmsfat] = 0.01; C[coolarmsskin] = 0.013\n",
    "\n",
    "C[handscore] = 0.14; C[handsmuscle] = 0.06; C[handsfat] = 0.09; C[handsskin] = 0.17\n",
    "\n",
    "C[legscore] = 4.24; C[legsmuscle] = 9.17; C[legsfat] = 1.43; C[legsskin] = 1.08\n",
    "\n",
    "C[feetcore] = 0.23; C[feetmuscle] = 0.06; C[feetfat] = 0.13; C[feetskin] = 0.22\n",
    "\n",
    "C[centralblood] = 2.25\n",
    "\n",
    "C = C*0.904 # Adjusting values for bodyweight of DRDC sample\n",
    "C[coolarmsfat] = 0.01; C[coolarmsskin] = 0.013\n",
    "\n",
    "# Basal evaporative losses [kcal/h]\n",
    "EB[headskin] = 0.63\n",
    "EB[trunkcore] = 9.00\n",
    "EB[trunkskin] = 3.25\n",
    "EB[armsskin] = 1.20*(1-cooling_ratio)\n",
    "EB[coolarmsskin] = 1.20*cooling_ratio\n",
    "EB[handsskin] = 0.45\n",
    "EB[legsskin] = 2.85\n",
    "EB[feetskin] = 0.62\n",
    "\n",
    "# Basal metabolic heat generation [kcal/h]\n",
    "QB[headcore] = 12.84; QB[headmuscle] = 0.10; QB[headfat] = 0.11; QB[headskin] = 0.08\n",
    "\n",
    "QB[trunkcore] = 45.38; QB[trunkmuscle] = 5.00; QB[trunkfat] = 2.13; QB[trunkskin] = 0.40\n",
    "\n",
    "QB[armscore] = 0.70*(1-cooling_ratio); QB[armsmuscle] = 0.95*(1-cooling_ratio); QB[armsfat] = 0.17*(1-cooling_ratio); QB[armsskin] = 0.13*(1-cooling_ratio) # Removing cooled arm segment from arm\n",
    "\n",
    "QB[coolarmscore] = 0.70*(cooling_ratio); QB[coolarmsmuscle] = 0.95*(cooling_ratio); QB[coolarmsfat] = 0.17*(cooling_ratio); QB[coolarmsskin] = 0.13*(cooling_ratio)\n",
    "\n",
    "QB[handscore] = 0.08; QB[handsmuscle] = 0.20; QB[handsfat] = 0.03; QB[handsskin] = 0.05\n",
    "\n",
    "QB[legscore] = 2.23; QB[legsmuscle] = 2.86; QB[legsfat] = 0.43; QB[legsskin] = 0.32\n",
    "\n",
    "QB[feetcore] = 0.13; QB[feetmuscle] = 0.02; QB[feetfat] = 0.04; QB[feetskin] = 0.07\n",
    "\n",
    "# Basal blood flow [l/h]\n",
    "BFB[headcore] = 45.00; BFB[headmuscle] = 0.12; BFB[headfat] = 0.13; BFB[headskin] = 1.44\n",
    "\n",
    "BFB[trunkcore] = 210.00; BFB[trunkmuscle] = 6.00; BFB[trunkfat] = 2.56; BFB[trunkskin] = 2.10\n",
    "\n",
    "BFB[armscore] = 0.84*(1-cooling_ratio); BFB[armsmuscle] = 1.14*(1-cooling_ratio); BFB[armsfat] = 0.20*(1-cooling_ratio); BFB[armsskin] = 0.50*(1-cooling_ratio) # Removing cooled arm segment from arm\n",
    "\n",
    "BFB[coolarmscore] = 0.84*(cooling_ratio); BFB[coolarmsmuscle] = 1.14*(cooling_ratio); BFB[coolarmsfat] = 0.2*(cooling_ratio); BFB[coolarmsskin] = 0.50*(cooling_ratio)\n",
    "\n",
    "BFB[handscore] = 0.10; BFB[handsmuscle] = 0.24; BFB[handsfat] = 0.04; BFB[handsskin] = 2.00\n",
    "\n",
    "BFB[legscore] = 2.69; BFB[legsmuscle] = 3.43; BFB[legsfat] = 0.52; BFB[legsskin] = 2.85\n",
    "\n",
    "BFB[feetcore] = 0.16; BFB[feetmuscle] = 0.02; BFB[feetfat] = 0.05; BFB[feetskin] = 3.00\n",
    "\n",
    "# Surface area of each body segment [m^2]\n",
    "S[head] = 0.1326; S[trunk] = 0.6804; S[arms] = 0.2536*(1-cooling_ratio); S[coolarms] = 0.2536*cooling_ratio; S[hands] = 0.0946; S[legs] = 0.5966; S[feet] = 0.1299\n",
    "\n",
    "S = S*0.952 # adjusting SA for SA of DRDC sample\n",
    "\n",
    "# Convective heat transfer coefficient at surface of each region [kcal/m^2/h/C]\n",
    "HC[head] = 2.75; HC[trunk] = 2.15; HC[arms] = 3.0; HC[hands] = 3.35; HC[legs] = 2.75; HC[feet] = 3.0\n",
    "\n",
    "HC[coolarms] = 3.0 # Assigned same as arms but this won't be used since it's covered by cooling surface\n",
    "\n",
    "# Radiative heat transfer coefficient at surface of each region [kcal/m^2/h/C]\n",
    "HR[head] = 5.5; HR[trunk] = 4.5; HR[arms] = 4.3; HR[hands] = 3.0; HR[legs] = 4.0; HR[feet] = 4.0\n",
    "\n",
    "HR[coolarms] = 4.3 # Assigned same as arms but this won't be used since it's covered by cooling surface\n",
    "\n",
    "# Intrinsic clothing resistance values [clo]\n",
    "\n",
    "Cloi[head] = 0.006; Cloi[trunk] = 0.083; Cloi[arms] = 0.04; Cloi[hands] = 0; Cloi[legs] = 0.05; Cloi[feet] = 1.15;\n",
    "\n",
    "Cloi[coolarms] = 0\n",
    "\n",
    "Fcl = 1/(1 + 0.155*(HC*(V/0.1)**0.5 + HR)*Cloi*1.163) # As described by Roelofson & Vink\n",
    "\n",
    "Iecl = np.zeros(7) # Evaporative resistance from clothing\n",
    "\n",
    "Iecl[head] = 0.01; Iecl[trunk] = 0.0069; Iecl[arms] = 0.0035; Iecl[coolarms] = 0; Iecl[hands] = 0; Iecl[legs] = 0.0041; Iecl[feet] = 0.15\n",
    "\n",
    "Fpcl = 1/(1+2.2*HC*(V/0.1)**0.5*Iecl*1.163) # As described by Roelofson & Vink\n",
    "\n",
    "# Combined dry heat loss coefficients\n",
    "H = (HC*(V/0.1)**0.5 + HR)*S\n",
    "\n",
    "# Solar view factors\n",
    "VF[head] = 0.5; VF[trunk] = 0.5; VF[arms] = 0.3; VF[coolarms] = 0; VF[hands] = 0.3; VF[legs] = 0.1; VF[feet] = 0.1\n",
    "\n",
    "# Solar absorptivity\n",
    "alpha[head] = 0.7; alpha[trunk] = 0.7; alpha[arms] = 0.7; alpha[coolarms] = 0.7; alpha[hands] = 0.7; alpha[legs] = 0.7; alpha[feet] = 0.7;\n",
    "\n",
    "#Compute operative temperature for each region\n",
    "for t in range(len(ts)):\n",
    "    TOp[t] = ((HC*(V[t]/0.1)**0.5)*TAIR[t] + HR*TAIR[t] + VF*alpha*s[t])/(HC*(V[t]/0.1)**0.5 + HR)"
   ]
  },
  {
   "cell_type": "code",
   "execution_count": 6,
   "metadata": {},
   "outputs": [],
   "source": [
    "## Create arrays for storing controlling system variables\n",
    "# Meaning of each variable outlined in Table 9 of Stolwijk\n",
    "TSET = np.zeros(29)\n",
    "ERROR = np.zeros((len(ts),29))\n",
    "RATE = np.zeros(29)\n",
    "COLD = np.zeros((len(ts),29))\n",
    "WARM = np.zeros((len(ts),29))\n",
    "WARMS = np.zeros(len(ts))\n",
    "COLDS = np.zeros(len(ts))\n",
    "SWEAT = np.zeros(len(ts))\n",
    "CHILL = np.zeros(len(ts))\n",
    "# WORKI = 530*np.ones(len(ts))\n",
    "# Added /t_end below to allow for longer durations than 1 hr\n",
    "WORKI = np.concatenate((150*np.ones(int(30/60/dt)), 0*np.ones(int(5/60/dt)), 297*np.ones(int(1.5/60/dt)), 372*np.ones(int(1.5/60/dt)), 490*np.ones(int(1.5/60/dt)), 557*np.ones(int(0.5/60/dt)), 0*np.ones(int(0.5/60/dt)), np.linspace(0,490,int(int(1/60/dt)))))\n",
    "# WORKI = np.concatenate((WORKI,490*np.ones(len(ts)-len(WORKI)))) # (rate was initially 530, but a final decision is needed)\n",
    "WORKI = np.concatenate((WORKI,770*np.ones(len(ts)-len(WORKI))))\n",
    "# WORKI = np.concatenate((WORKI,771*np.ones(len(ts)-len(WORKI))))\n",
    "# WORKI = 0*np.ones(len(ts))\n",
    "DILAT = np.zeros(len(ts))\n",
    "STRIC = np.zeros(len(ts))\n",
    "SKINR = np.zeros(7)\n",
    "SKINS = np.zeros(7)\n",
    "SKINV = np.zeros(7)\n",
    "SKINC = np.zeros(7)\n",
    "WORKM = np.zeros(7)\n",
    "CHILM = np.zeros(7)"
   ]
  },
  {
   "cell_type": "code",
   "execution_count": 7,
   "metadata": {},
   "outputs": [],
   "source": [
    "# Define control coefficients for thermoregulatory action (from Stolwijk)\n",
    "CSW = 320; SSW = 29; PSW = 0\n",
    "CDIL = 117; SDIL = 7.5; PDIL = 0\n",
    "CCON = 5; SCON = 5; PCON = 0\n",
    "CCHIL = 0; SCHIL = 0; PCHIL = 21.0\n",
    "BULL = 10"
   ]
  },
  {
   "cell_type": "code",
   "execution_count": 8,
   "metadata": {},
   "outputs": [],
   "source": [
    "## Assign constant values as appropriate for controlling system (from Stolwijk)\n",
    "# Weighting values for skin surface on each body region\n",
    "SKINR[head] = 0.0695; SKINR[trunk] = 0.4935; SKINR[arms] = 0.0686*(1-cooling_ratio); SKINR[coolarms] = 0.0686*cooling_ratio; SKINR[hands] = 0.1845; SKINR[legs] = 0.1505; SKINR[feet] = 0.0334\n",
    "\n",
    "SKINS[head] = 0.081; SKINS[trunk] = 0.481; SKINS[arms] = 0.154*(1-cooling_ratio); SKINS[coolarms] = 0.154*cooling_ratio; SKINS[hands] = 0.031; SKINS[legs] = 0.218; SKINS[feet] = 0.035\n",
    "\n",
    "SKINV[head] = 0.132; SKINV[trunk] = 0.322; SKINV[arms] = 0.095*(1-cooling_ratio); SKINV[coolarms] = 0.095*cooling_ratio; SKINV[hands] = 0.121; SKINV[legs] = 0.230; SKINV[feet] = 0.10\n",
    "\n",
    "SKINC[head] = 0.05; SKINC[trunk] = 0.15; SKINC[arms] = 0.05; SKINC[hands] = 0.35; SKINC[legs] = 0.05; SKINC[feet] = 0.35\n",
    "SKINC[coolarms] = 0.05\n",
    "# Note that SKINC is not split for arms and coolarms based on SA due to the nature of how constriction influences skin blood flow\n",
    "# Also note that this should not matter in the current application since the body should be warm, and centrally governed vasoconstiction not present\n",
    "\n",
    "# Weighting values for work distribution in muscles\n",
    "WORKM[head] = 0; WORKM[trunk] = 0.30; WORKM[arms] = 0.08*(1-cooling_ratio); WORKM[hands] = 0.01; WORKM[legs] = 0.6; WORKM[feet] = 0.01\n",
    "WORKM[coolarms] = 0.08*cooling_ratio\n",
    "\n",
    "CHILM[head] = 0.02; CHILM[trunk] = 0.85; CHILM[arms] = 0.05*(1-cooling_ratio); CHILM[hands] = 0; CHILM[legs] = 0.07; CHILM[feet] = 0\n",
    "CHILM[coolarms] = 0.05*cooling_ratio"
   ]
  },
  {
   "cell_type": "code",
   "execution_count": 9,
   "metadata": {},
   "outputs": [],
   "source": [
    "## Temperature setpoints (from Stolwijk with corrected typo)\n",
    "# Head\n",
    "TSET[headcore] = 36.95; TSET[headmuscle] = 35.11; TSET[headfat] = 34.86; TSET[headskin] = 34.63\n",
    "\n",
    "# Trunk\n",
    "TSET[trunkcore] = 36.91; TSET[trunkmuscle] = 36.31; TSET[trunkfat] = 34.55; TSET[trunkskin] = 33.74\n",
    "\n",
    "# Arms \n",
    "TSET[armscore] = 35.54; TSET[armsmuscle] = 34.14; TSET[armsfat] = 33.51; TSET[armsskin] = 33.26\n",
    "\n",
    "# Hands\n",
    "TSET[handscore] = 35.41; TSET[handsmuscle] = 35.37; TSET[handsfat] = 35.29; TSET[handsskin] = 35.21\n",
    "\n",
    "# Legs\n",
    "TSET[legscore] = 35.84; TSET[legsmuscle] = 35.33; TSET[legsfat] = 34.34; TSET[legsskin] = 34.12\n",
    "\n",
    "# Feet\n",
    "TSET[feetcore] = 35.13; TSET[feetmuscle] = 35.10; TSET[feetfat] = 35.07; TSET[feetskin] = 35.03\n",
    "\n",
    "# Central blood\n",
    "TSET[centralblood] = 36.72\n",
    "\n",
    "# Cooled Arm Segment\n",
    "TSET[coolarmscore] = 35.54; TSET[coolarmsmuscle] = 34.14; TSET[coolarmsfat] = 33.51; TSET[coolarmsskin] = 33.26 #setpoints taken from arm setpoints\n",
    "\n",
    "# Initialize temperatures at thermoneutral setpoints\n",
    "T[0] = TSET"
   ]
  },
  {
   "cell_type": "code",
   "execution_count": 10,
   "metadata": {},
   "outputs": [],
   "source": [
    "# Iterate through timesteps\n",
    "\n",
    "## For the hot control condition\n",
    "\n",
    "for t in range(len(ts)):\n",
    "    # Calculate Error signals in each body region\n",
    "    ERROR[t] = T[t] - TSET  + np.minimum(0,RATE*F[t-1])  # t-1 index is a bit of a hack, because F is not yet calculated at our current timestep, but it works\n",
    "    WARM[t] = np.maximum(0,ERROR[t])  # If error signal is positive, warm receptors are active\n",
    "    COLD[t] = np.maximum(0,ERROR[t]*-1)  # If error signal is negative, cold receptors are active  \n",
    "    \n",
    "    # Integrate error signals over skin area\n",
    "    WARMS[t] = np.sum(SKINR*WARM[t,[headskin,trunkskin,armsskin,coolarmsskin,handsskin,legsskin,feetskin]]) # Added arm cooling segment\n",
    "    COLDS[t] = np.sum(SKINR*COLD[t,[headskin,trunkskin,armsskin,coolarmsskin,handsskin,legsskin,feetskin]])\n",
    "    \n",
    "    # Calculate efferent response drive signals\n",
    "    SWEAT[t] = np.maximum(0,CSW*ERROR[t,headcore] + SSW*(WARMS[t] - COLDS[t])) # + PSW*WARM[t,headcore]*WARMS[t]\n",
    "    DILAT[t] = np.maximum(0,CDIL*ERROR[t,headcore] + SDIL*(WARMS[t] - COLDS[t])) # + PDIL*WARM[t,headcore]*WARMS[t]\n",
    "    CHILL[t] = np.maximum(0,-CCHIL*ERROR[t,headcore] + SCHIL*(COLDS[t] - WARMS[t]) + PCHIL*COLD[t,headcore]*COLDS[t])\n",
    "    STRIC[t] = np.maximum(0,-CCON*ERROR[t,headcore] + SCON*(COLDS[t] - WARMS[t])) # + PCON*COLD[t,headcore]*COLDS[t]\n",
    "\n",
    "    \n",
    "    # Calculate various parameters for each compartment based on drive signals\n",
    "    for N in coreNs:\n",
    "        Q[t,N] = QB[N]\n",
    "        BF[t,N] = BFB[N]\n",
    "        \n",
    "        if N == 4:\n",
    "            E[t,N] = (74.4 + WORKI[t])*0.0023*(44-PAIR[t])\n",
    "            EMASS[t,N] = E[t,N]/576\n",
    "\n",
    "        \n",
    "    for N1 in muscleNs:\n",
    "        I = int((N1-1)/4)\n",
    "        Q[t,N1] = QB[N1] + WORKM[I]*WORKI[t] + CHILM[I]*CHILL[t]\n",
    "        BF[t,N1] = BFB[N1] + Q[t,N1] - QB[N1]\n",
    "        \n",
    "        \n",
    "    for N2 in fatNs:\n",
    "        Q[t,N2] = QB[N2]\n",
    "        BF[t,N2] = BFB[N2]\n",
    "        \n",
    "    for N3 in skinNs:\n",
    "        I = int((N3-3)/4)\n",
    "        Q[t,N3] = QB[N3]\n",
    "        BF[t,N3] = ((BFB[N3] + SKINV[I]*DILAT[t])/(1 + SKINC[I]*STRIC[t]))*2**(ERROR[t,N3]/10)\n",
    "        E[t,N3] = (EB[N3] + SKINS[I]*SWEAT[t])*2**(ERROR[t,N3]/BULL)\n",
    "        PSKIN[t,I] = np.interp(T[t,N3], TforP, P)\n",
    "        EMAX[t,I] = (PSKIN[t,I] - PAIR[t])*2.2*HC[I]*(V[t,I]/0.1)**0.5*S[I]*Fpcl[t,I]  # Added Nishi permeation factor as in Roelofson & Vink\n",
    "        AC[t,N3] = H[t,I]*(T[t,N3] - TOp[t,I])*Fcl[t,I]\n",
    "\n",
    "    # Ensure sweat secretion does not exceed maximal value    \n",
    "    if np.sum(E[t,skinNs]) > 1036.8:\n",
    "        E[t,skinNs] = E[t,skinNs]*(1036.8/np.sum(E[t,skinNs]))\n",
    "        \n",
    "    EMASS[t] = E[t]/576 # Save secreted sweat mass before sweat loss is truncated based on maximal evaporation\n",
    "    E[t,skinNs] = np.minimum(EMAX[t], E[t,skinNs])\n",
    "            \n",
    "    # Ensure SkBF does not exceed maximal value  \n",
    "    SkBFmax[t] = 386.9 - 0.32*(np.sum(BF[t-1]) - np.sum(BFB))\n",
    "    \n",
    "    if np.sum(BF[t,skinNs]) > SkBFmax[t]:\n",
    "        BF[t,skinNs] = BF[t,skinNs]*(SkBFmax[t]/np.sum(BF[t,skinNs]))\n",
    "        \n",
    "    # Calculate heat flows\n",
    "    for N in range(28):\n",
    "        BC[t,N] = BF[t,N]*(T[t,N] - T[t,centralblood])\n",
    "        TD[t,N] = TC[N]*(T[t,N] - T[t,N+1])\n",
    "        \n",
    "        if N%4 == 0:  # Core nodes\n",
    "            HF[t,N] = Q[t,N] - E[t,N] - BC[t,N] - TD[t,N]\n",
    "            \n",
    "        if (N-1)%4 == 0:  # Muscle nodes\n",
    "            HF[t,N] = Q[t,N] - BC[t,N] - TD[t,N] + TD[t,N-1]\n",
    "            \n",
    "        if (N-2)%4 == 0:  # Fat nodes\n",
    "            HF[t,N] = Q[t,N] - BC[t,N] - TD[t,N] + TD[t,N-1]\n",
    "            \n",
    "        if (N-3)%4 == 0:  # Skin nodes\n",
    "            I = int((N-3)/4)\n",
    "            if I == coolarms:\n",
    "                if t >= 40.5/60/dt: \n",
    "                    HF[t,N] = Q[t,N] - BC[t,N] + TD[t,N-1] # - 26\n",
    "                else:\n",
    "                    HF[t,N] = Q[t,N] - BC[t,N] + TD[t,N-1] - E[t,N] - AC[t,N]\n",
    "            else: \n",
    "                 HF[t,N] = Q[t,N] - BC[t,N] + TD[t,N-1] - E[t,N] - AC[t,N]\n",
    "            \n",
    "    HF[t,centralblood] = np.sum(BC[t])\n",
    "    \n",
    "    # Update nodal temperatures based on heat flows\n",
    "    if t < len(ts)-1:\n",
    "        for N in range(29):\n",
    "            F[t,N] = HF[t,N]/C[N]\n",
    "            T[t+1,N] = T[t,N] + F[t,N]*dt"
   ]
  },
  {
   "cell_type": "code",
   "execution_count": 11,
   "metadata": {},
   "outputs": [],
   "source": [
    "# Save computed values from uncooled case to allow the variables to be over-written by cooled case simulation without losing relevant info\n",
    "THOT = T.copy()\n",
    "ERRORHOT = ERROR.copy()\n",
    "SWEATHOT = SWEAT.copy()\n",
    "DILATHOT = DILAT.copy()\n",
    "CHILLHOT = CHILL.copy()\n",
    "STRICHOT = STRIC.copy()\n",
    "EMASSHOT = EMASS.copy()\n",
    "EHOT = E.copy()\n",
    "EMAXHOT = EMAX.copy()\n",
    "ACHOT = AC.copy()\n",
    "HFHOT = HF.copy()\n",
    "BFHOT = BF.copy()"
   ]
  },
  {
   "cell_type": "code",
   "execution_count": 12,
   "metadata": {},
   "outputs": [],
   "source": [
    "# Iterate through timesteps\n",
    "\n",
    "## For the COOL condition\n",
    "\n",
    "for t in range(len(ts)):\n",
    "    # Calculate Error signals in each body region\n",
    "    ERROR[t] = T[t] - TSET  + np.minimum(0,RATE*F[t-1])  # t-1 index is a bit of a hack, because F is not yet calculated at our current timestep, but it works\n",
    "    # ERROR[t] = ERRORHOT[t]\n",
    "    WARM[t] = np.maximum(0,ERROR[t])  # If error signal is positive, warm receptors are active\n",
    "    COLD[t] = np.maximum(0,ERROR[t]*-1)  # If error signal is negative, cold receptors are active\n",
    "    \n",
    "    # Integrate error signals over skin area\n",
    "    WARMS[t] = np.sum(SKINR*WARM[t,[headskin,trunkskin,armsskin,coolarmsskin,handsskin,legsskin,feetskin]]) # Added arm cooling segment\n",
    "    COLDS[t] = np.sum(SKINR*COLD[t,[headskin,trunkskin,armsskin,coolarmsskin,handsskin,legsskin,feetskin]])\n",
    "    \n",
    "    # Calculate efferent response drive signals\n",
    "    SWEAT[t] = np.maximum(0,CSW*ERROR[t,headcore] + SSW*(WARMS[t] - COLDS[t])) # + PSW*WARM[t,headcore]*WARMS[t]\n",
    "    DILAT[t] = np.maximum(0,CDIL*ERROR[t,headcore] + SDIL*(WARMS[t] - COLDS[t])) # + PDIL*WARM[t,headcore]*WARMS[t]\n",
    "    CHILL[t] = np.maximum(0,-CCHIL*ERROR[t,headcore] + SCHIL*(COLDS[t] - WARMS[t]) + PCHIL*COLD[t,headcore]*COLDS[t])\n",
    "    STRIC[t] = np.maximum(0,-CCON*ERROR[t,headcore] + SCON*(COLDS[t] - WARMS[t])) # + PCON*COLD[t,headcore]*COLDS[t]\n",
    "    \n",
    "    for N in coreNs:\n",
    "        Q[t,N] = QB[N]\n",
    "        BF[t,N] = BFB[N]\n",
    "        \n",
    "        if N == 4:\n",
    "            E[t,N] = (74.4 + WORKI[t])*0.0023*(44-PAIR[t])\n",
    "            EMASS[t,N] = E[t,N]/576\n",
    "\n",
    " \n",
    "    for N1 in muscleNs:\n",
    "        I = int((N1-1)/4)\n",
    "        Q[t,N1] = QB[N1] + WORKM[I]*WORKI[t] + CHILM[I]*CHILL[t]\n",
    "        BF[t,N1] = BFB[N1] + Q[t,N1] - QB[N1]\n",
    "        \n",
    "        \n",
    "    for N2 in fatNs:\n",
    "        Q[t,N2] = QB[N2]\n",
    "        BF[t,N2] = BFB[N2]\n",
    "        \n",
    "    for N3 in skinNs:\n",
    "        I = int((N3-3)/4)\n",
    "        Q[t,N3] = QB[N3]\n",
    "        BF[t,N3] = ((BFB[N3] + SKINV[I]*DILAT[t])/(1 + SKINC[I]*STRIC[t]))*2**(ERROR[t,N3]/10)\n",
    "        E[t,N3] = (EB[N3] + SKINS[I]*SWEAT[t])*2**(ERROR[t,N3]/BULL)\n",
    "        PSKIN[t,I] = np.interp(T[t,N3], TforP, P)\n",
    "        EMAX[t,I] = (PSKIN[t,I] - PAIR[t])*2.2*HC[I]*(V[t,I]/0.1)**0.5*S[I]*Fpcl[t,I]  # Added Nishi permeation factor\n",
    "        \n",
    "        AC[t,N3] = H[t,I]*(T[t,N3] - TOp[t,I])*Fcl[t,I]\n",
    "\n",
    "    # Ensure sweat secretion does not exceed maximal value \n",
    "    if np.sum(E[t,skinNs]) > 1036.8:\n",
    "        E[t,skinNs] = E[t,skinNs]*(1036.8/np.sum(E[t,skinNs]))\n",
    "        \n",
    "    EMASS[t] = E[t]/576\n",
    "    E[t,skinNs] = np.minimum(EMAX[t], E[t,skinNs])\n",
    "        \n",
    "    SkBFmax[t] = 386.9 - 0.32*(np.sum(BF[t-1]) - np.sum(BFB))\n",
    "    \n",
    "    # Ensure SkBF does not exceed maximal value \n",
    "    if np.sum(BF[t,skinNs]) > SkBFmax[t]:\n",
    "        BF[t,skinNs] = BF[t,skinNs]*(SkBFmax[t]/np.sum(BF[t,skinNs]))\n",
    "            \n",
    "        \n",
    "    # Calculate heat flows\n",
    "    for N in range(28):\n",
    "        BC[t,N] = BF[t,N]*(T[t,N] - T[t,centralblood])\n",
    "        TD[t,N] = TC[N]*(T[t,N] - T[t,N+1])\n",
    "        \n",
    "        if N%4 == 0:  # Core nodes\n",
    "            HF[t,N] = Q[t,N] - E[t,N] - BC[t,N] - TD[t,N]\n",
    "            \n",
    "        if (N-1)%4 == 0:  # Muscle nodes\n",
    "            HF[t,N] = Q[t,N] - BC[t,N] - TD[t,N] + TD[t,N-1]\n",
    "            \n",
    "        if (N-2)%4 == 0:  # Fat nodes\n",
    "            HF[t,N] = Q[t,N] - BC[t,N] - TD[t,N] + TD[t,N-1]\n",
    "            \n",
    "        if (N-3)%4 == 0:  # Skin nodes\n",
    "            I = int((N-3)/4)\n",
    "            if I == coolarms: # Additionally include cooling at forearm segment\n",
    "                if t >= 40.5/60/dt: # Only during sustained exercise bout period\n",
    "                    COOLING[t] = 2.9*(T[t,N] - 6)\n",
    "                    HF[t,N] = Q[t,N] - BC[t,N] + TD[t,N-1] - COOLING[t]                    \n",
    "                else:\n",
    "                    HF[t,N] = Q[t,N] - BC[t,N] + TD[t,N-1] - E[t,N] - AC[t,N]\n",
    "            else:\n",
    "                HF[t,N] = Q[t,N] - BC[t,N] + TD[t,N-1] - E[t,N] - AC[t,N]                           \n",
    "            \n",
    "    HF[t,centralblood] = np.sum(BC[t])\n",
    "    \n",
    "    # Update nodal temperatures based on heat flows\n",
    "    if t < len(ts)-1:\n",
    "        for N in range(29):\n",
    "            F[t,N] = HF[t,N]/C[N]\n",
    "            T[t+1,N] = T[t,N] + F[t,N]*dt"
   ]
  },
  {
   "cell_type": "code",
   "execution_count": 13,
   "metadata": {},
   "outputs": [],
   "source": [
    "# Manually enter exeprimental results so the can be plotted alongside simulation output if desired\n",
    "t_exp = np.array([0,5,10,15,20,25,30])\n",
    "Tcon_exp = np.array([37.44, 37.67, 37.96, 38.19, 38.40, 38.60, 38.76])\n",
    "Tcool_exp = np.array([37.27, 37.48, 37.69, 37.87, 38.00, 38.19, 38.35])"
   ]
  },
  {
   "cell_type": "code",
   "execution_count": 14,
   "metadata": {},
   "outputs": [
    {
     "data": {
      "image/png": "[encoded data removed]",
      "text/plain": [
       "<Figure size 576x576 with 1 Axes>"
      ]
     },
     "metadata": {
      "needs_background": "light"
     },
     "output_type": "display_data"
    }
   ],
   "source": [
    "# Plot results\n",
    "plt.figure(figsize=(8,8))\n",
    "# Plot trunk core temperature response with and without cooling\n",
    "plt.plot((ts[int(41.5/60/dt):]-ts[int(41.5/60/dt)])*60,T[int(41.5/60/dt):,trunkcore],color=\"g\",linestyle=\"--\",label=\"Simulated trunk core temperature with cooling\")\n",
    "plt.plot((ts[int(41.5/60/dt):]-ts[int(41.5/60/dt)])*60,THOT[int(41.5/60/dt):,trunkcore],color=\"g\",label=\"Simulated trunk core temperature without cooling\")\n",
    "# Plot additional details relevant to base outdoor test case\n",
    "plt.axvline(x = 43.5, color = 'r', linestyle=\":\", label = 'Uncooled maximal sweat rate encountered')\n",
    "plt.axvline(x = 15, color = 'orange', linestyle=\":\", label = 'Uncooled maximal sweat evaporation rate encountered on trunk')\n",
    "plt.axvline(x = 4, color = 'b', linestyle=\":\", label = 'Uncooled maximal sweat evaporation rate encountered on feet')\n",
    "plt.axvline(x = 2, color = 'k', linestyle=\":\", label = 'Uncooled maximal skin blood flow rate encountered')\n",
    "\n",
    "plt.xlabel(\"Exercise Time [min]\")\n",
    "plt.ylabel(\"Temperature [°C]\")\n",
    "plt.grid()\n",
    "plt.legend()\n",
    "plt.show()"
   ]
  },
  {
   "cell_type": "code",
   "execution_count": 15,
   "metadata": {},
   "outputs": [
    {
     "data": {
      "text/plain": [
       "37.29950176641388"
      ]
     },
     "execution_count": 15,
     "metadata": {},
     "output_type": "execute_result"
    }
   ],
   "source": [
    "T[int(41.5/60/dt),trunkcore] # Output trunk core temp at beginning of sustained bout"
   ]
  },
  {
   "cell_type": "code",
   "execution_count": 16,
   "metadata": {},
   "outputs": [
    {
     "data": {
      "text/plain": [
       "0.15038868299768637"
      ]
     },
     "execution_count": 16,
     "metadata": {},
     "output_type": "execute_result"
    }
   ],
   "source": [
    "# Output trunk core temp rise over first 30 mins of bout\n",
    "(THOT[int(71.5/60/dt),trunkcore]-T[int(41.5/60/dt),trunkcore]) - (T[int(71.5/60/dt),trunkcore]-T[int(41.5/60/dt),trunkcore]) "
   ]
  },
  {
   "cell_type": "code",
   "execution_count": 17,
   "metadata": {},
   "outputs": [
    {
     "data": {
      "text/plain": [
       "0.18342523093867413"
      ]
     },
     "execution_count": 17,
     "metadata": {},
     "output_type": "execute_result"
    }
   ],
   "source": [
    "# Output trunk core temp rise over first 45 mins of bout\n",
    "(THOT[int(86.5/60/dt),trunkcore]-T[int(41.5/60/dt),trunkcore]) - (T[int(86.5/60/dt),trunkcore]-T[int(41.5/60/dt),trunkcore])"
   ]
  },
  {
   "cell_type": "code",
   "execution_count": 18,
   "metadata": {},
   "outputs": [
    {
     "data": {
      "text/plain": [
       "3.646041170893691"
      ]
     },
     "execution_count": 18,
     "metadata": {},
     "output_type": "execute_result"
    }
   ],
   "source": [
    "# uncooled rate of rise in C/hr over first 45 mins\n",
    "(THOT[int(86.5/60/dt),trunkcore]-THOT[int(41.5/60/dt),trunkcore])/(45/60)"
   ]
  },
  {
   "cell_type": "code",
   "execution_count": 19,
   "metadata": {},
   "outputs": [
    {
     "data": {
      "text/plain": [
       "3.402358371143966"
      ]
     },
     "execution_count": 19,
     "metadata": {},
     "output_type": "execute_result"
    }
   ],
   "source": [
    "# cooled rate of rise in C/hr over first 45 mins\n",
    "(T[int(86.5/60/dt),trunkcore]-T[int(41.5/60/dt),trunkcore])/(45/60)"
   ]
  },
  {
   "cell_type": "code",
   "execution_count": 20,
   "metadata": {},
   "outputs": [
    {
     "data": {
      "text/plain": [
       "0.8131814267494246"
      ]
     },
     "execution_count": 20,
     "metadata": {},
     "output_type": "execute_result"
    }
   ],
   "source": [
    "# Whole body sweat loss index\n",
    "np.mean(np.sum(EMASS[int(15/60/dt):int(86.5/60/dt)],axis=1))*1.19/0.75/1.8 # Cooled case\n",
    "# np.mean(np.sum(EMASSHOT[int(15/60/dt):int(86.5/60/dt)],axis=1))*1.19/0.75/1.8 # Uncooled case"
   ]
  },
  {
   "cell_type": "code",
   "execution_count": 21,
   "metadata": {},
   "outputs": [],
   "source": [
    "# Manually enter experimental heat extraction for comparison\n",
    "Lower = np.array([26.60079979,22.9727797,21.17346771,20.39018603,19.72821837,20.44385407,20.62828014,21.46974296,22.24130261,22.94107928,21.92724563,22.60578924,23.93826253,23.30608916,\n",
    "                21.47984456,21.55672721,22.30684185,23.10414064,23.3344099,23.26125477,22.87825347,24.48119122,24.98767628,23.72631426,21.19230242,22.60756296,24.22507098,\n",
    "                23.50935369,22.73043369,23.32705671,22.49376801,22.988966,21.00612611,21.87459681,24.28320384,22.17340988,23.2708627,25.19091607,24.80206426,24.4742182,\n",
    "                24.15874907,25.49351037,24.57862259,24.47684579,24.35849926,23.75482903])\n",
    "\n",
    "Upper = np.array([54.07591666,36.52394774,33.74931602,33.16203203,33.45669635,32.2728025,34.04157149,32.94182133,33.84406674,33.9533618,36.72028459,35.7494248,36.1822088,\n",
    "                37.19174278,37.50081392,37.43739794,36.37314059,36.93215291,37.25642637,37.71882594,38.93925885,38.22726727,39.26004887,40.49678867,39.84291669,39.26045108,\n",
    "                39.65116096,39.84895911,39.70419319,39.43957449,39.43622726,39.87370101,39.74415027,39.36319982,39.02850686,39.28833453,39.96903726,38.62633513,38.11884854,\n",
    "                39.2840451,41.03410645,39.69972132,39.5972091,40.53216368,39.48902484,38.59599841])\n",
    "\n",
    "cooling_exp = np.array([40.33835823,29.74836372,27.46139187,26.77610903,26.59245736,26.35832829,27.33492582,27.20578214,28.04268467,28.44722054,29.32376511,29.17760702,\n",
    "                        30.06023566,30.24891597,29.49032924,29.49706258,29.33999122,30.01814677,30.29541813,30.49004035,30.90875616,31.35422924,32.12386258,32.11155147,\n",
    "                        30.51760955,30.93400702,31.93811597,31.6791564,31.21731344,31.3833156,30.96499764,31.4313335,30.37513819,30.61889832,31.65585535,30.73087221,31.61994998,\n",
    "                        31.9086256,31.4604564,31.87913165,32.59642776,32.59661585,32.08791585,32.50450474,31.92376205,31.17541372])"
   ]
  },
  {
   "cell_type": "code",
   "execution_count": 22,
   "metadata": {},
   "outputs": [
    {
     "data": {
      "image/png": "[encoded data removed]",
      "text/plain": [
       "<Figure size 576x576 with 1 Axes>"
      ]
     },
     "metadata": {
      "needs_background": "light"
     },
     "output_type": "display_data"
    }
   ],
   "source": [
    "# Plot heat extraction over time\n",
    "plt.figure(figsize=(8,8))\n",
    "plt.fill_between(range(0,46), Lower, Upper, alpha=0.4)\n",
    "plt.plot(range(0,46), cooling_exp, label=\"Experimentally observed cooling\")\n",
    "plt.plot((ts[int(41.5/60/dt):int(86.5/60/dt)]-ts[int(41.5/60/dt)])*60,1.163*COOLING[int(41.5/60/dt):int(86.5/60/dt)],label=\"Simulated cooling\")\n",
    "plt.grid()\n",
    "plt.legend()\n",
    "plt.xlabel(\"Exercise Time [min]\")\n",
    "plt.ylabel(\"Heat extracted [W]\")\n",
    "plt.ylim(0,60)\n",
    "plt.show()"
   ]
  },
  {
   "cell_type": "code",
   "execution_count": 23,
   "metadata": {},
   "outputs": [
    {
     "data": {
      "text/plain": [
       "28.170590911719618"
      ]
     },
     "execution_count": 23,
     "metadata": {},
     "output_type": "execute_result"
    }
   ],
   "source": [
    "# Average heat extraction of 45 minute outdoor bout\n",
    "np.mean(COOLING[int(41.5/60/dt):int(86.5/60/dt)])"
   ]
  },
  {
   "cell_type": "code",
   "execution_count": null,
   "metadata": {},
   "outputs": [],
   "source": []
  }
 ],
 "metadata": {
  "kernelspec": {
   "display_name": "Python 3 (ipykernel)",
   "language": "python",
   "name": "python3"
  },
  "language_info": {
   "codemirror_mode": {
    "name": "ipython",
    "version": 3
   },
   "file_extension": ".py",
   "mimetype": "text/x-python",
   "name": "python",
   "nbconvert_exporter": "python",
   "pygments_lexer": "ipython3",
   "version": "3.8.3"
  }
 },
 "nbformat": 4,
 "nbformat_minor": 4
}
